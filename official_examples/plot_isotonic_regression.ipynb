{
 "cells": [
  {
   "cell_type": "code",
   "execution_count": 1,
   "metadata": {
    "collapsed": false
   },
   "outputs": [],
   "source": [
    "%matplotlib inline"
   ]
  },
  {
   "cell_type": "markdown",
   "metadata": {},
   "source": [
    "\n",
    "# Isotonic Regression\n",
    "\n",
    "\n",
    "An illustration of the isotonic regression on generated data. The\n",
    "isotonic regression finds a non-decreasing approximation of a function\n",
    "while minimizing the mean squared error on the training data. The benefit\n",
    "of such a model is that it does not assume any form for the target\n",
    "function such as linearity. For comparison a linear regression is also\n",
    "presented.\n",
    "\n"
   ]
  },
  {
   "cell_type": "code",
   "execution_count": 2,
   "metadata": {
    "collapsed": false
   },
   "outputs": [
    {
     "name": "stdout",
     "output_type": "stream",
     "text": [
      "Automatically created module for IPython interactive environment\n"
     ]
    },
    {
     "name": "stderr",
     "output_type": "stream",
     "text": [
      "/usr/lib64/python2.7/site-packages/sklearn/utils/fixes.py:200: UserWarning: Using `sort` instead of partition.Upgrade numpy to 1.8 for better performace on large numberof clusters\n",
      "  warnings.warn('Using `sort` instead of partition.'\n"
     ]
    }
   ],
   "source": [
    "print(__doc__)\n",
    "\n",
    "# Author: Nelle Varoquaux <nelle.varoquaux@gmail.com>\n",
    "#         Alexandre Gramfort <alexandre.gramfort@inria.fr>\n",
    "# License: BSD\n",
    "\n",
    "import numpy as np\n",
    "import matplotlib.pyplot as plt\n",
    "from matplotlib.collections import LineCollection\n",
    "\n",
    "from sklearn.linear_model import LinearRegression\n",
    "from sklearn.isotonic import IsotonicRegression\n",
    "from sklearn.utils import check_random_state\n",
    "\n",
    "n = 100\n",
    "x = np.arange(n)\n",
    "rs = check_random_state(0)\n",
    "y = rs.randint(-50, 50, size=(n,)) + 50. * np.log(1 + np.arange(n))"
   ]
  },
  {
   "cell_type": "markdown",
   "metadata": {},
   "source": [
    "Fit IsotonicRegression and LinearRegression models\n"
   ]
  },
  {
   "cell_type": "code",
   "execution_count": 3,
   "metadata": {
    "collapsed": false
   },
   "outputs": [
    {
     "data": {
      "text/plain": [
       "LinearRegression(copy_X=True, fit_intercept=True, n_jobs=1, normalize=False)"
      ]
     },
     "execution_count": 3,
     "metadata": {},
     "output_type": "execute_result"
    }
   ],
   "source": [
    "ir = IsotonicRegression()\n",
    "\n",
    "y_ = ir.fit_transform(x, y)\n",
    "\n",
    "lr = LinearRegression()\n",
    "lr.fit(x[:, np.newaxis], y)  # x needs to be 2d for LinearRegression"
   ]
  },
  {
   "cell_type": "markdown",
   "metadata": {},
   "source": [
    "plot result\n"
   ]
  },
  {
   "cell_type": "code",
   "execution_count": 4,
   "metadata": {
    "collapsed": false
   },
   "outputs": [
    {
     "data": {
      "image/png": "[encoded data removed]",
      "text/plain": [
       "<matplotlib.figure.Figure at 0x40af150>"
      ]
     },
     "metadata": {},
     "output_type": "display_data"
    }
   ],
   "source": [
    "segments = [[[i, y[i]], [i, y_[i]]] for i in range(n)]\n",
    "lc = LineCollection(segments, zorder=0)\n",
    "lc.set_array(np.ones(len(y)))\n",
    "lc.set_linewidths(0.5 * np.ones(n))\n",
    "\n",
    "fig = plt.figure()\n",
    "plt.plot(x, y, 'r.', markersize=12)\n",
    "plt.plot(x, y_, 'g.-', markersize=12)\n",
    "plt.plot(x, lr.predict(x[:, np.newaxis]), 'b-')\n",
    "plt.gca().add_collection(lc)\n",
    "plt.legend(('Data', 'Isotonic Fit', 'Linear Fit'), loc='lower right')\n",
    "plt.title('Isotonic regression')\n",
    "plt.show()"
   ]
  },
  {
   "cell_type": "code",
   "execution_count": 5,
   "metadata": {
    "collapsed": false
   },
   "outputs": [
    {
     "name": "stdout",
     "output_type": "stream",
     "text": [
      "None\n",
      "[ 1.  1.  1.]\n"
     ]
    }
   ],
   "source": [
    "print np.newaxis\n",
    "print np.ones(3)"
   ]
  },
  {
   "cell_type": "code",
   "execution_count": null,
   "metadata": {
    "collapsed": true
   },
   "outputs": [],
   "source": []
  }
 ],
 "metadata": {
  "kernelspec": {
   "display_name": "Python 2",
   "language": "python",
   "name": "python2"
  },
  "language_info": {
   "codemirror_mode": {
    "name": "ipython",
    "version": 2
   },
   "file_extension": ".py",
   "mimetype": "text/x-python",
   "name": "python",
   "nbconvert_exporter": "python",
   "pygments_lexer": "ipython2",
   "version": "2.7.5"
  }
 },
 "nbformat": 4,
 "nbformat_minor": 0
}
